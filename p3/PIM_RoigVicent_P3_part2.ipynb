{
 "metadata": {
  "name": "",
  "signature": "sha256:7a9c47234662c380519268cf4f92a138c43dbbeeadc82f1b164e4d38bed94bea"
 },
 "nbformat": 3,
 "nbformat_minor": 0,
 "worksheets": [
  {
   "cells": [
    {
     "cell_type": "code",
     "collapsed": false,
     "input": [
      "#%matplotlib inline"
     ],
     "language": "python",
     "metadata": {},
     "outputs": [],
     "prompt_number": 1
    },
    {
     "cell_type": "heading",
     "level": 1,
     "metadata": {},
     "source": [
      "P3. Computational Photography"
     ]
    },
    {
     "cell_type": "heading",
     "level": 2,
     "metadata": {},
     "source": [
      "Week #2 Seam Carving - Deletion"
     ]
    },
    {
     "cell_type": "code",
     "collapsed": false,
     "input": [
      "from skimage.io import imread\n",
      "from skimage import color, data, restoration\n",
      "import matplotlib.pyplot as plt\n",
      "import matplotlib.animation as animation\n",
      "from PIL import Image, ImageDraw\n",
      "import numpy as np\n",
      "from scipy.misc import imresize\n",
      "from scipy import ndimage as nd"
     ],
     "language": "python",
     "metadata": {},
     "outputs": [],
     "prompt_number": 2
    },
    {
     "cell_type": "code",
     "collapsed": false,
     "input": [
      "'''\n",
      "image uint8 normalize function\n",
      "'''\n",
      "def norm(img):\n",
      "    return np.real((img - np.min(img)) * 256 / (np.max(img) - np.min(img)))"
     ],
     "language": "python",
     "metadata": {},
     "outputs": [],
     "prompt_number": 3
    },
    {
     "cell_type": "code",
     "collapsed": false,
     "input": [
      "RGB = plt.imread('./img/agbar.png')\n",
      "scale_factor=2\n",
      "RGB = imresize(RGB, ( RGB.shape[0]/scale_factor, RGB.shape[1]/scale_factor,3),interp='bilinear').astype('float')\n",
      "img = color.rgb2gray(RGB)\n",
      "\n",
      "#Visualization\n",
      "fig = plt.figure(1) \n",
      "plt.subplot(1,2,1)\n",
      "plt.imshow(RGB.astype('uint8'))\n",
      "plt.title('Original')\n",
      "plt.axis('off')\n",
      "plt.subplot(1,2,2)\n",
      "plt.imshow(norm(img), cmap=\"gray\")\n",
      "plt.title('GrayScale')\n",
      "plt.axis('off')\n",
      "plt.gcf().set_size_inches((10,10))\n",
      "fig.tight_layout()\n",
      "plt.show()"
     ],
     "language": "python",
     "metadata": {},
     "outputs": [],
     "prompt_number": 4
    },
    {
     "cell_type": "heading",
     "level": 3,
     "metadata": {},
     "source": [
      "Gradient Magnitude and Energy Matrix"
     ]
    },
    {
     "cell_type": "code",
     "collapsed": false,
     "input": [
      "# * * * * * * * * * * * * * * *\n",
      "# * Gradient Magnitude Matrix *\n",
      "# * * * * * * * * * * * * * * *\n",
      "def gradient(img):\n",
      "    '''\n",
      "    compute image gradient magnitude matrix.\n",
      "    '''\n",
      "    gx, gy = np.gradient(img)\n",
      "    grad = np.sqrt(gx*gx + gy*gy)\n",
      "    return grad\n",
      "\n",
      "# * * * * * * * * *\n",
      "# * Energy Matrix *\n",
      "# * * * * * * * * *\n",
      "def compute_energy(im):\n",
      "    '''\n",
      "    This implements the dynamic programming seam-find algorithm. For an m*n picture, this algorithm\n",
      "     takes O(m*n) time \n",
      "    '''\n",
      "    im_width, im_height = im.shape\n",
      "    cost = np.zeros(im.shape)\n",
      "    cost[0] = im[0] #first row for energy matrix as the original gradient magnitude\n",
      "  \n",
      "    for x in xrange(1, im_width):\n",
      "        for y in xrange(im_height):\n",
      "            if y == 0:\n",
      "                min_val = min( cost[x-1, y], cost[x-1, y+1] )\n",
      "            elif y < im_height - 2:\n",
      "                min_val = min( cost[x-1, y], cost[x-1, y+1] )\n",
      "                min_val = min( min_val, cost[x-1, y-1] )\n",
      "            else:\n",
      "                min_val = min( cost[x-1, y], cost[x-1, y-1] )\n",
      "            cost[x,y] = im[x,y] + min_val\n",
      "    return cost"
     ],
     "language": "python",
     "metadata": {},
     "outputs": [],
     "prompt_number": 5
    },
    {
     "cell_type": "code",
     "collapsed": false,
     "input": [
      "grad = gradient(img)\n",
      "energy = compute_energy(grad)\n",
      "\n",
      "#Visualization\n",
      "fig = plt.figure(2) \n",
      "plt.subplot(1,2,1)\n",
      "plt.imshow(norm(grad), cmap=\"gray\")\n",
      "plt.title('Gradient Magnitude')\n",
      "plt.axis('off')\n",
      "plt.subplot(1,2,2)\n",
      "plt.imshow(norm(energy), cmap=\"gray\" )\n",
      "plt.title('Energy')\n",
      "plt.axis('off')\n",
      "plt.gcf().set_size_inches((10,10))\n",
      "fig.tight_layout()\n",
      "plt.show()"
     ],
     "language": "python",
     "metadata": {},
     "outputs": [],
     "prompt_number": 6
    },
    {
     "cell_type": "heading",
     "level": 3,
     "metadata": {},
     "source": [
      "Finding and Removing Vertical Seams"
     ]
    },
    {
     "cell_type": "code",
     "collapsed": false,
     "input": [
      "def find_vertical_seam(im, mask):\n",
      "    '''\n",
      "    Takes a grayscale img and returns the lowest energy vertical seam as a list of pixels (2-tuples). \n",
      "    This implements the dynamic programming seam-find algorithm. For an m*n picture, this algorithm\n",
      "    takes O(m*n) time \n",
      "    @im: a grayscale image\n",
      "    '''\n",
      "    assert len(im.shape) == 2\n",
      "    \n",
      "    im_width, im_height = im.shape\n",
      "    grad = apply_mask(gradient(im), mask)\n",
      "    cost = compute_energy(grad)\n",
      "    \n",
      "    min_val = 1e1000\n",
      "    path = []\n",
      "    for y in xrange(im_height):\n",
      "        if cost[im_width-1,y] < min_val:\n",
      "            min_val = cost[im_width-1,y]\n",
      "            min_ptr = y\n",
      "    \n",
      "    # if there is still a negative value in the last row of energy mat -> the selected area deletion is not finished\n",
      "    if(min_val >= 0):\n",
      "        return path, True\n",
      "    \n",
      "    \n",
      "    pos = (im_width-1, min_ptr)\n",
      "    path.append(pos) \n",
      "    while pos[0] != 0:\n",
      "        val = cost[pos] - grad[pos]\n",
      "        x,y = pos\n",
      "        if y == 0:\n",
      "            if val == cost[x-1,y+1]:\n",
      "                pos = (x-1,y+1) \n",
      "            else:\n",
      "                pos = (x-1,y)\n",
      "        elif y <= im_height - 2:\n",
      "            if val == cost[x-1,y+1]:\n",
      "                pos = (x-1,y+1) \n",
      "            elif val == cost[x-1,y]:\n",
      "                pos = (x-1,y)\n",
      "            else:\n",
      "                pos = (x-1,y-1)\n",
      "        else:\n",
      "            if val == cost[x-1,y]:\n",
      "                pos = (x-1,y)\n",
      "            else:\n",
      "                pos = (x-1,y-1) \n",
      "                \n",
      "        path.append(pos)  \n",
      "    #print \"Reconstruction Complete.\"\n",
      "    return path, False\n",
      "\n",
      "\n",
      "def mark_seam(img, path, mark_as='red'):\n",
      "    '''\n",
      "    Marks a seam for easy visual checking\n",
      "    @img: an input img\n",
      "    @path: the seam\n",
      "    '''\n",
      "    assert mark_as in ['red','green','blue','black','white']\n",
      "    assert len(img.shape) == 3\n",
      "    \n",
      "    #print \"Marking seam...\"\n",
      "    for pixel in path:\n",
      "        if mark_as == 'red':\n",
      "           img[pixel] = (255,0,0)\n",
      "        elif mark_as == 'green':\n",
      "            img[pixel] = (0,255,0)\n",
      "        elif mark_as == 'blue':\n",
      "            img[pixel] = (0,0,255)\n",
      "        elif mark_as == 'white':\n",
      "            img[pixel] = (255,255,255)\n",
      "        elif mark_as == 'black':\n",
      "            img[pixel] = (0,0,0)\n",
      "    #print \"Marking Complete.\"\n",
      "    \n",
      "    return img;\n",
      "\n",
      "\n",
      "def delete_vertical_seam (img, path):\n",
      "    '''\n",
      "    Deletes the pixels in a vertical path from img\n",
      "    @img: an input img\n",
      "    @path: pixels to delete in a vertical path\n",
      "    '''\n",
      "    #print \"Deleting Vertical Seam...\"\n",
      "    img_height, img_width = img.shape[:2]\n",
      "    if(len(img.shape) == 3):\n",
      "        i = np.zeros((img_height, img_width-1, img.shape[2]))\n",
      "    else:\n",
      "        i = np.zeros((img_height, img_width-1))\n",
      "    \n",
      "    path_set = set(path)\n",
      "    seen_set = set()\n",
      "    for x in xrange(img_height):\n",
      "        for y in xrange(img_width):\n",
      "            if (x,y) not in path_set and x not in seen_set:\n",
      "                i[x,y] = img[x,y]\n",
      "            elif (x,y) in path_set:\n",
      "                seen_set.add(x)\n",
      "            else:\n",
      "                i[x,y-1] = img[x,y]\n",
      "    #print \"Deletion Complete.\"\n",
      "    return i;"
     ],
     "language": "python",
     "metadata": {},
     "outputs": [],
     "prompt_number": 7
    },
    {
     "cell_type": "heading",
     "level": 2,
     "metadata": {},
     "source": [
      "interactive_only.py"
     ]
    },
    {
     "cell_type": "code",
     "collapsed": false,
     "input": [
      "class get_mouse_click():\n",
      "    \"\"\"\n",
      "    Mouse interaction interface for radial distortion removal.\n",
      "    \"\"\"\n",
      "    def __init__(self, img):\n",
      "      height, width = img.shape[:2]\n",
      "      self.figure = plt.imshow(img, extent=(0, width, height, 0))\n",
      "      plt.gray()\n",
      "      plt.title('select the object to remove')\n",
      "      plt.xlabel('Select sets of  points with left mouse button,\\n'\n",
      "                 'click right button to close the polygon.')\n",
      "      plt.connect('button_press_event', self.button_press)\n",
      "      plt.connect('motion_notify_event', self.mouse_move)\n",
      "\n",
      "      self.img = np.atleast_3d(img)\n",
      "      self.points = []\n",
      "      self.centre = np.array([(width - 1)/2., (height - 1)/2.])\n",
      "\n",
      "      self.height = height\n",
      "      self.width = width\n",
      "\n",
      "      self.make_cursorline()\n",
      "      self.figure.axes.set_autoscale_on(False)\n",
      "\n",
      "      plt.show()\n",
      "      plt.close()\n",
      "\n",
      "    def make_cursorline(self):\n",
      "        self.cursorline, = plt.plot([0],[0],'r:+',\n",
      "                                    linewidth=2,markersize=15,markeredgecolor='b')\n",
      "\n",
      "    def button_press(self,event):\n",
      "        \"\"\"\n",
      "        Register mouse clicks.\n",
      "        \"\"\"\n",
      "        if (event.button == 1 and event.xdata and event.ydata):\n",
      "            self.points.append((event.xdata,event.ydata))\n",
      "            print \"Coordinate entered: (%f,%f)\" % (event.xdata, event.ydata)\n",
      "\n",
      "            #if len(self.points) % 2 == 0:\n",
      "            plt.gca().lines.append(self.cursorline)\n",
      "            self.make_cursorline()\n",
      "\n",
      "        if (event.button != 1):\n",
      "            #print \"pepito: \" ,self.points\n",
      "            self.points.append((self.points[0][0],self.points[0][1]))\n",
      "            plt.close()\n",
      "            return self.points\n",
      "\n",
      "\n",
      "    def mouse_move(self,event):\n",
      "        \"\"\"\n",
      "        Handle cursor drawing.\n",
      "        \"\"\"\n",
      "        pts_last_set=len(self.points)\n",
      "        pts = np.zeros((pts_last_set+1,2))\n",
      "        if pts_last_set > 0:\n",
      "            # Line follows up to 3 clicked points:\n",
      "            pts[:pts_last_set] = self.points[-pts_last_set:]\n",
      "            # The last point of the line follows the mouse cursor\n",
      "        pts[pts_last_set:] = [event.xdata,event.ydata]\n",
      "        self.cursorline.set_data(pts[:,0], pts[:,1])\n",
      "        plt.draw()\n",
      "\n",
      "\n",
      "def compute_mask(width,height,polygon):\n",
      "    img = Image.new('L', (width, height), 0)\n",
      "    ImageDraw.Draw(img).polygon(polygon, outline=1, fill=1)\n",
      "    mask = np.array(img)\n",
      "    mask100 = 100*np.ones([mask.shape[0],mask.shape[1]])\n",
      "    mask=mask*101\n",
      "    mask = 1. - mask; # switch 0s and 1s\n",
      "    \n",
      "    return mask"
     ],
     "language": "python",
     "metadata": {},
     "outputs": [],
     "prompt_number": 8
    },
    {
     "cell_type": "heading",
     "level": 2,
     "metadata": {},
     "source": [
      "Area Selection"
     ]
    },
    {
     "cell_type": "code",
     "collapsed": false,
     "input": [
      "# * * * * * * * * * * * * *\n",
      "# * Area Mask application *\n",
      "# * * * * * * * * * * * * *\n",
      "def apply_mask(img, mask):    \n",
      "    masked = img.copy()\n",
      "\n",
      "    for x in xrange(mask.shape[0]):\n",
      "        for y in xrange(mask.shape[1]):\n",
      "            if mask[x,y] == -100:\n",
      "                masked[x,y] = mask[x,y]\n",
      "    return masked\n",
      "\n",
      "# * * * * * * * * * * * * *\n",
      "# * Seam Carving Deletion *\n",
      "# * * * * * * * * * * * * *\n",
      "def seam_carving_deletion(RGB, mask, verbose=False):\n",
      "    seams = []\n",
      "    rgb = RGB.copy();\n",
      "    i = 1\n",
      "    \n",
      "    while(True):\n",
      "        gray = color.rgb2gray(rgb)\n",
      "        path, end = find_vertical_seam(gray, mask)\n",
      "        \n",
      "        if (end):\n",
      "            return rgb, seams;\n",
      "        \n",
      "        rgb = mark_seam(rgb, path, 'blue')\n",
      "        seams.append([plt.imshow(rgb.astype('uint8'))])\n",
      "        \n",
      "        rgb = delete_vertical_seam(rgb, path)\n",
      "        mask = delete_vertical_seam(mask, path)\n",
      "        \n",
      "        if verbose:\n",
      "            print \"iteration \"+str(i),\"\\tseam carved...\", rgb.shape\n",
      "            i += 1\n",
      "        \n",
      "    return rgb, seams;"
     ],
     "language": "python",
     "metadata": {},
     "outputs": [],
     "prompt_number": 9
    },
    {
     "cell_type": "code",
     "collapsed": false,
     "input": [
      "width, height = img.shape\n",
      "# GET AREA TO DELETE FROM IMAGE\n",
      "rdi = get_mouse_click(RGB.astype('uint8'))\n",
      "polygon = rdi.points\n",
      "\n",
      "# COMPUTE MASK FROM POLYGON\n",
      "mask = compute_mask(height, width, polygon)"
     ],
     "language": "python",
     "metadata": {},
     "outputs": [
      {
       "output_type": "stream",
       "stream": "stdout",
       "text": [
        "Coordinate entered: (131.250000,80.841121)\n",
        "Coordinate entered: (141.374611,87.071651)"
       ]
      },
      {
       "output_type": "stream",
       "stream": "stdout",
       "text": [
        "\n",
        "Coordinate entered: (152.278037,133.021807)"
       ]
      },
      {
       "output_type": "stream",
       "stream": "stdout",
       "text": [
        "\n",
        "Coordinate entered: (153.056854,148.598131)"
       ]
      },
      {
       "output_type": "stream",
       "stream": "stdout",
       "text": [
        "\n",
        "Coordinate entered: (153.056854,184.423676)"
       ]
      },
      {
       "output_type": "stream",
       "stream": "stdout",
       "text": [
        "\n",
        "Coordinate entered: (153.056854,223.364486)"
       ]
      },
      {
       "output_type": "stream",
       "stream": "stdout",
       "text": [
        "\n",
        "Coordinate entered: (112.558411,221.806854)"
       ]
      },
      {
       "output_type": "stream",
       "stream": "stdout",
       "text": [
        "\n",
        "Coordinate entered: (111.779595,140.031153)"
       ]
      },
      {
       "output_type": "stream",
       "stream": "stdout",
       "text": [
        "\n",
        "Coordinate entered: (112.558411,123.676012)"
       ]
      },
      {
       "output_type": "stream",
       "stream": "stdout",
       "text": [
        "\n",
        "Coordinate entered: (118.788941,93.302181)"
       ]
      },
      {
       "output_type": "stream",
       "stream": "stdout",
       "text": [
        "\n",
        "Coordinate entered: (125.019470,82.398754)"
       ]
      },
      {
       "output_type": "stream",
       "stream": "stdout",
       "text": [
        "\n"
       ]
      }
     ],
     "prompt_number": 15
    },
    {
     "cell_type": "heading",
     "level": 3,
     "metadata": {},
     "source": [
      "Execution Test and Results"
     ]
    },
    {
     "cell_type": "code",
     "collapsed": false,
     "input": [
      "fig = plt.figure(1)\n",
      "result, seams = seam_carving_deletion(RGB, mask, True)"
     ],
     "language": "python",
     "metadata": {},
     "outputs": [
      {
       "output_type": "stream",
       "stream": "stdout",
       "text": [
        "iteration 1 \tseam carved... (400, 299, 3)\n",
        "iteration 2"
       ]
      },
      {
       "output_type": "stream",
       "stream": "stdout",
       "text": [
        " \tseam carved... (400, 298, 3)\n",
        "iteration 3"
       ]
      },
      {
       "output_type": "stream",
       "stream": "stdout",
       "text": [
        " \tseam carved... (400, 297, 3)\n",
        "iteration 4"
       ]
      },
      {
       "output_type": "stream",
       "stream": "stdout",
       "text": [
        " \tseam carved... (400, 296, 3)\n",
        "iteration 5"
       ]
      },
      {
       "output_type": "stream",
       "stream": "stdout",
       "text": [
        " \tseam carved... (400, 295, 3)\n",
        "iteration 6"
       ]
      },
      {
       "output_type": "stream",
       "stream": "stdout",
       "text": [
        " \tseam carved... (400, 294, 3)\n",
        "iteration 7"
       ]
      },
      {
       "output_type": "stream",
       "stream": "stdout",
       "text": [
        " \tseam carved... (400, 293, 3)\n",
        "iteration 8"
       ]
      },
      {
       "output_type": "stream",
       "stream": "stdout",
       "text": [
        " \tseam carved... (400, 292, 3)\n",
        "iteration 9"
       ]
      },
      {
       "output_type": "stream",
       "stream": "stdout",
       "text": [
        " \tseam carved... (400, 291, 3)\n",
        "iteration 10"
       ]
      },
      {
       "output_type": "stream",
       "stream": "stdout",
       "text": [
        " \tseam carved... (400, 290, 3)\n",
        "iteration 11"
       ]
      },
      {
       "output_type": "stream",
       "stream": "stdout",
       "text": [
        " \tseam carved... (400, 289, 3)\n",
        "iteration 12"
       ]
      },
      {
       "output_type": "stream",
       "stream": "stdout",
       "text": [
        " \tseam carved... (400, 288, 3)\n",
        "iteration 13"
       ]
      },
      {
       "output_type": "stream",
       "stream": "stdout",
       "text": [
        " \tseam carved... (400, 287, 3)\n",
        "iteration 14"
       ]
      },
      {
       "output_type": "stream",
       "stream": "stdout",
       "text": [
        " \tseam carved... (400, 286, 3)\n",
        "iteration 15"
       ]
      },
      {
       "output_type": "stream",
       "stream": "stdout",
       "text": [
        " \tseam carved... (400, 285, 3)\n",
        "iteration 16"
       ]
      },
      {
       "output_type": "stream",
       "stream": "stdout",
       "text": [
        " \tseam carved... (400, 284, 3)\n",
        "iteration 17"
       ]
      },
      {
       "output_type": "stream",
       "stream": "stdout",
       "text": [
        " \tseam carved... (400, 283, 3)\n",
        "iteration 18"
       ]
      },
      {
       "output_type": "stream",
       "stream": "stdout",
       "text": [
        " \tseam carved... (400, 282, 3)\n",
        "iteration 19"
       ]
      },
      {
       "output_type": "stream",
       "stream": "stdout",
       "text": [
        " \tseam carved... (400, 281, 3)\n",
        "iteration 20"
       ]
      },
      {
       "output_type": "stream",
       "stream": "stdout",
       "text": [
        " \tseam carved... (400, 280, 3)\n",
        "iteration 21"
       ]
      },
      {
       "output_type": "stream",
       "stream": "stdout",
       "text": [
        " \tseam carved... (400, 279, 3)\n",
        "iteration 22"
       ]
      },
      {
       "output_type": "stream",
       "stream": "stdout",
       "text": [
        " \tseam carved... (400, 278, 3)\n",
        "iteration 23"
       ]
      },
      {
       "output_type": "stream",
       "stream": "stdout",
       "text": [
        " \tseam carved... (400, 277, 3)\n",
        "iteration 24"
       ]
      },
      {
       "output_type": "stream",
       "stream": "stdout",
       "text": [
        " \tseam carved... (400, 276, 3)\n",
        "iteration 25"
       ]
      },
      {
       "output_type": "stream",
       "stream": "stdout",
       "text": [
        " \tseam carved... (400, 275, 3)\n",
        "iteration 26"
       ]
      },
      {
       "output_type": "stream",
       "stream": "stdout",
       "text": [
        " \tseam carved... (400, 274, 3)\n",
        "iteration 27"
       ]
      },
      {
       "output_type": "stream",
       "stream": "stdout",
       "text": [
        " \tseam carved... (400, 273, 3)\n",
        "iteration 28"
       ]
      },
      {
       "output_type": "stream",
       "stream": "stdout",
       "text": [
        " \tseam carved... (400, 272, 3)\n",
        "iteration 29"
       ]
      },
      {
       "output_type": "stream",
       "stream": "stdout",
       "text": [
        " \tseam carved... (400, 271, 3)\n",
        "iteration 30"
       ]
      },
      {
       "output_type": "stream",
       "stream": "stdout",
       "text": [
        " \tseam carved... (400, 270, 3)\n",
        "iteration 31"
       ]
      },
      {
       "output_type": "stream",
       "stream": "stdout",
       "text": [
        " \tseam carved... (400, 269, 3)\n",
        "iteration 32"
       ]
      },
      {
       "output_type": "stream",
       "stream": "stdout",
       "text": [
        " \tseam carved... (400, 268, 3)\n",
        "iteration 33"
       ]
      },
      {
       "output_type": "stream",
       "stream": "stdout",
       "text": [
        " \tseam carved... (400, 267, 3)\n",
        "iteration 34"
       ]
      },
      {
       "output_type": "stream",
       "stream": "stdout",
       "text": [
        " \tseam carved... (400, 266, 3)\n",
        "iteration 35"
       ]
      },
      {
       "output_type": "stream",
       "stream": "stdout",
       "text": [
        " \tseam carved... (400, 265, 3)\n",
        "iteration 36"
       ]
      },
      {
       "output_type": "stream",
       "stream": "stdout",
       "text": [
        " \tseam carved... (400, 264, 3)\n",
        "iteration 37"
       ]
      },
      {
       "output_type": "stream",
       "stream": "stdout",
       "text": [
        " \tseam carved... (400, 263, 3)\n",
        "iteration 38"
       ]
      },
      {
       "output_type": "stream",
       "stream": "stdout",
       "text": [
        " \tseam carved... (400, 262, 3)\n",
        "iteration 39"
       ]
      },
      {
       "output_type": "stream",
       "stream": "stdout",
       "text": [
        " \tseam carved... (400, 261, 3)\n",
        "iteration 40"
       ]
      },
      {
       "output_type": "stream",
       "stream": "stdout",
       "text": [
        " \tseam carved... (400, 260, 3)\n",
        "iteration 41"
       ]
      },
      {
       "output_type": "stream",
       "stream": "stdout",
       "text": [
        " \tseam carved... (400, 259, 3)\n",
        "iteration 42"
       ]
      },
      {
       "output_type": "stream",
       "stream": "stdout",
       "text": [
        " \tseam carved... (400, 258, 3)\n",
        "iteration 43"
       ]
      },
      {
       "output_type": "stream",
       "stream": "stdout",
       "text": [
        " \tseam carved... (400, 257, 3)\n"
       ]
      }
     ],
     "prompt_number": 16
    },
    {
     "cell_type": "heading",
     "level": 4,
     "metadata": {},
     "source": [
      "Comment <%matplotlib inline> cell and Run all to show animation."
     ]
    },
    {
     "cell_type": "code",
     "collapsed": false,
     "input": [
      "#run animation\n",
      "ani = animation.ArtistAnimation(fig, seams, interval=100, blit=True, repeat_delay=1000);\n",
      "plt.show();"
     ],
     "language": "python",
     "metadata": {},
     "outputs": [],
     "prompt_number": 20
    },
    {
     "cell_type": "code",
     "collapsed": false,
     "input": [
      "#Visualization\n",
      "fig = plt.figure(4) \n",
      "plt.subplot(1,2,1)\n",
      "plt.imshow(RGB.astype('uint8'))\n",
      "plt.title('Original')\n",
      "plt.axis('off')\n",
      "plt.subplot(1,2,2)\n",
      "plt.imshow(result.astype('uint8'))\n",
      "plt.title('Seam Carving Deletion')\n",
      "plt.axis('off')\n",
      "plt.gcf().set_size_inches((10,10))\n",
      "fig.tight_layout()\n",
      "plt.show();"
     ],
     "language": "python",
     "metadata": {},
     "outputs": [],
     "prompt_number": 18
    },
    {
     "cell_type": "code",
     "collapsed": false,
     "input": [],
     "language": "python",
     "metadata": {},
     "outputs": []
    }
   ],
   "metadata": {}
  }
 ]
}